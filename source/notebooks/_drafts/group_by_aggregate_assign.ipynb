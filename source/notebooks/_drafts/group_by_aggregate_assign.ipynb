{
 "cells": [
  {
   "cell_type": "markdown",
   "execution_count": null,
   "metadata": {},
   "outputs": [],
   "source": [
    "## Calculate summary statistic (min, max, mean, count,...) per group"
   ]
  },
  {
   "cell_type": "code",
   "execution_count": 7,
   "metadata": {},
   "outputs": [],
   "source": [
    "import numpy as np\n",
    "import pandas as pd\n"
   ]
  },
  {
   "cell_type": "code",
   "execution_count": 8,
   "metadata": {},
   "outputs": [
    {
     "data": {
      "text/html": "<div>\n<style scoped>\n    .dataframe tbody tr th:only-of-type {\n        vertical-align: middle;\n    }\n\n    .dataframe tbody tr th {\n        vertical-align: top;\n    }\n\n    .dataframe thead th {\n        text-align: right;\n    }\n</style>\n<table border=\"1\" class=\"dataframe\">\n  <thead>\n    <tr style=\"text-align: right;\">\n      <th></th>\n      <th>wellbore_name</th>\n      <th>well</th>\n      <th>drilling_operator</th>\n      <th>production_licence</th>\n      <th>purpose</th>\n      <th>status</th>\n      <th>content</th>\n      <th>well_type</th>\n      <th>sub_sea</th>\n      <th>entry_date</th>\n      <th>...</th>\n      <th>npdid_wellbore</th>\n      <th>dsc_npdid_discovery</th>\n      <th>npdid_field</th>\n      <th>npdid_facility_drilling</th>\n      <th>npdid_wellbore_reclass</th>\n      <th>l_npdid_production_licence</th>\n      <th>npdid_site_survey</th>\n      <th>date_updated</th>\n      <th>date_updated_max</th>\n      <th>datesync_npd</th>\n    </tr>\n  </thead>\n  <tbody>\n    <tr>\n      <td>0</td>\n      <td>1/2-1</td>\n      <td>1/2-1</td>\n      <td>Phillips Petroleum Norsk AS</td>\n      <td>143</td>\n      <td>WILDCAT</td>\n      <td>P&amp;A</td>\n      <td>OIL</td>\n      <td>EXPLORATION</td>\n      <td>NO</td>\n      <td>20.03.1989</td>\n      <td>...</td>\n      <td>1382</td>\n      <td>43814.0</td>\n      <td>3437650.0</td>\n      <td>296245.0</td>\n      <td>0</td>\n      <td>21956.0</td>\n      <td>NaN</td>\n      <td>03.10.2019</td>\n      <td>03.10.2019</td>\n      <td>22.11.2019</td>\n    </tr>\n    <tr>\n      <td>1</td>\n      <td>1/2-2</td>\n      <td>1/2-2</td>\n      <td>Paladin Resources Norge AS</td>\n      <td>143 CS</td>\n      <td>WILDCAT</td>\n      <td>P&amp;A</td>\n      <td>OIL SHOWS</td>\n      <td>EXPLORATION</td>\n      <td>NO</td>\n      <td>14.12.2005</td>\n      <td>...</td>\n      <td>5192</td>\n      <td>NaN</td>\n      <td>NaN</td>\n      <td>278245.0</td>\n      <td>0</td>\n      <td>2424919.0</td>\n      <td>NaN</td>\n      <td>03.10.2019</td>\n      <td>03.10.2019</td>\n      <td>22.11.2019</td>\n    </tr>\n    <tr>\n      <td>2</td>\n      <td>1/3-1</td>\n      <td>1/3-1</td>\n      <td>A/S Norske Shell</td>\n      <td>011</td>\n      <td>WILDCAT</td>\n      <td>P&amp;A</td>\n      <td>GAS</td>\n      <td>EXPLORATION</td>\n      <td>NO</td>\n      <td>06.07.1968</td>\n      <td>...</td>\n      <td>154</td>\n      <td>43820.0</td>\n      <td>NaN</td>\n      <td>288604.0</td>\n      <td>0</td>\n      <td>20844.0</td>\n      <td>NaN</td>\n      <td>03.10.2019</td>\n      <td>03.10.2019</td>\n      <td>22.11.2019</td>\n    </tr>\n    <tr>\n      <td>3</td>\n      <td>1/3-2</td>\n      <td>1/3-2</td>\n      <td>A/S Norske Shell</td>\n      <td>011</td>\n      <td>WILDCAT</td>\n      <td>P&amp;A</td>\n      <td>DRY</td>\n      <td>EXPLORATION</td>\n      <td>NO</td>\n      <td>14.05.1969</td>\n      <td>...</td>\n      <td>165</td>\n      <td>NaN</td>\n      <td>NaN</td>\n      <td>288847.0</td>\n      <td>0</td>\n      <td>20844.0</td>\n      <td>NaN</td>\n      <td>03.10.2019</td>\n      <td>03.10.2019</td>\n      <td>22.11.2019</td>\n    </tr>\n    <tr>\n      <td>4</td>\n      <td>1/3-3</td>\n      <td>1/3-3</td>\n      <td>Elf Petroleum Norge AS</td>\n      <td>065</td>\n      <td>WILDCAT</td>\n      <td>P&amp;A</td>\n      <td>OIL</td>\n      <td>EXPLORATION</td>\n      <td>NO</td>\n      <td>22.08.1982</td>\n      <td>...</td>\n      <td>87</td>\n      <td>43826.0</td>\n      <td>1028599.0</td>\n      <td>288334.0</td>\n      <td>0</td>\n      <td>21316.0</td>\n      <td>NaN</td>\n      <td>03.10.2019</td>\n      <td>03.10.2019</td>\n      <td>22.11.2019</td>\n    </tr>\n  </tbody>\n</table>\n<p>5 rows × 87 columns</p>\n</div>",
      "text/plain": "  wellbore_name   well            drilling_operator production_licence  \\\n0         1/2-1  1/2-1  Phillips Petroleum Norsk AS               143    \n1         1/2-2  1/2-2   Paladin Resources Norge AS             143 CS   \n2         1/3-1  1/3-1             A/S Norske Shell               011    \n3         1/3-2  1/3-2             A/S Norske Shell               011    \n4         1/3-3  1/3-3       Elf Petroleum Norge AS               065    \n\n   purpose status    content    well_type sub_sea  entry_date  ...  \\\n0  WILDCAT    P&A        OIL  EXPLORATION      NO  20.03.1989  ...   \n1  WILDCAT    P&A  OIL SHOWS  EXPLORATION      NO  14.12.2005  ...   \n2  WILDCAT    P&A        GAS  EXPLORATION      NO  06.07.1968  ...   \n3  WILDCAT    P&A        DRY  EXPLORATION      NO  14.05.1969  ...   \n4  WILDCAT    P&A        OIL  EXPLORATION      NO  22.08.1982  ...   \n\n  npdid_wellbore dsc_npdid_discovery npdid_field npdid_facility_drilling  \\\n0           1382             43814.0   3437650.0                296245.0   \n1           5192                 NaN         NaN                278245.0   \n2            154             43820.0         NaN                288604.0   \n3            165                 NaN         NaN                288847.0   \n4             87             43826.0   1028599.0                288334.0   \n\n  npdid_wellbore_reclass  l_npdid_production_licence npdid_site_survey  \\\n0                      0                     21956.0               NaN   \n1                      0                   2424919.0               NaN   \n2                      0                     20844.0               NaN   \n3                      0                     20844.0               NaN   \n4                      0                     21316.0               NaN   \n\n  date_updated  date_updated_max  datesync_npd  \n0   03.10.2019        03.10.2019    22.11.2019  \n1   03.10.2019        03.10.2019    22.11.2019  \n2   03.10.2019        03.10.2019    22.11.2019  \n3   03.10.2019        03.10.2019    22.11.2019  \n4   03.10.2019        03.10.2019    22.11.2019  \n\n[5 rows x 87 columns]"
     },
     "execution_count": 8,
     "metadata": {},
     "output_type": "execute_result"
    }
   ],
   "source": [
    "local_relative_path = \"./source/data_processed/wellbore_exploration_all_clean_names.csv\"\n",
    "wellbore_exploration_all = pd.read_csv(local_relative_path)\n",
    "wellbore_exploration_all.head()"
   ]
  },
  {
   "cell_type": "markdown",
   "execution_count": null,
   "metadata": {},
   "outputs": [],
   "source": [
    "What is the minimum and maximum total_depth grouped by completion_year and sorted by entry_year?\n",
    "\n",
    "We see that well_bore name was silently dropped since it is a categorical column."
   ]
  },
  {
   "cell_type": "code",
   "execution_count": 9,
   "metadata": {},
   "outputs": [
    {
     "data": {
      "text/html": "<div>\n<style scoped>\n    .dataframe tbody tr th:only-of-type {\n        vertical-align: middle;\n    }\n\n    .dataframe tbody tr th {\n        vertical-align: top;\n    }\n\n    .dataframe thead th {\n        text-align: right;\n    }\n</style>\n<table border=\"1\" class=\"dataframe\">\n  <thead>\n    <tr style=\"text-align: right;\">\n      <th></th>\n      <th>entry_year</th>\n      <th>total_depth_min</th>\n      <th>total_depth_max</th>\n    </tr>\n  </thead>\n  <tbody>\n    <tr>\n      <td>0</td>\n      <td>2019</td>\n      <td>0.0</td>\n      <td>6068.0</td>\n    </tr>\n    <tr>\n      <td>1</td>\n      <td>2018</td>\n      <td>381.0</td>\n      <td>6100.0</td>\n    </tr>\n    <tr>\n      <td>2</td>\n      <td>2017</td>\n      <td>508.0</td>\n      <td>7811.0</td>\n    </tr>\n    <tr>\n      <td>3</td>\n      <td>2016</td>\n      <td>488.0</td>\n      <td>7126.0</td>\n    </tr>\n    <tr>\n      <td>4</td>\n      <td>2015</td>\n      <td>840.0</td>\n      <td>5765.0</td>\n    </tr>\n    <tr>\n      <td>5</td>\n      <td>2014</td>\n      <td>1033.0</td>\n      <td>4889.0</td>\n    </tr>\n    <tr>\n      <td>6</td>\n      <td>2013</td>\n      <td>930.0</td>\n      <td>5634.0</td>\n    </tr>\n    <tr>\n      <td>7</td>\n      <td>2012</td>\n      <td>1640.0</td>\n      <td>5573.0</td>\n    </tr>\n    <tr>\n      <td>8</td>\n      <td>2011</td>\n      <td>1339.0</td>\n      <td>5672.0</td>\n    </tr>\n    <tr>\n      <td>9</td>\n      <td>2010</td>\n      <td>1178.0</td>\n      <td>5738.0</td>\n    </tr>\n  </tbody>\n</table>\n</div>",
      "text/plain": "   entry_year  total_depth_min  total_depth_max\n0        2019              0.0           6068.0\n1        2018            381.0           6100.0\n2        2017            508.0           7811.0\n3        2016            488.0           7126.0\n4        2015            840.0           5765.0\n5        2014           1033.0           4889.0\n6        2013            930.0           5634.0\n7        2012           1640.0           5573.0\n8        2011           1339.0           5672.0\n9        2010           1178.0           5738.0"
     },
     "execution_count": 9,
     "metadata": {},
     "output_type": "execute_result"
    }
   ],
   "source": [
    "(wellbore_exploration_all\n",
    "  .filter(items=[\"wellbore_name\", \"entry_year\", \"total_depth\"])\n",
    "  .groupby(\"entry_year\")\n",
    "  .agg(\n",
    "    total_depth_min = pd.NamedAgg(column=\"total_depth\", aggfunc=\"min\"),\n",
    "    total_depth_max = pd.NamedAgg(column=\"total_depth\", aggfunc=\"max\")\n",
    "    )\n",
    "  .sort_values(\"entry_year\", ascending = False)\n",
    "  .reset_index()\n",
    "  ).head(10)"
   ]
  },
  {
   "cell_type": "markdown",
   "execution_count": null,
   "metadata": {},
   "outputs": [],
   "source": [
    "## Add a new calculated column"
   ]
  },
  {
   "cell_type": "markdown",
   "execution_count": null,
   "metadata": {},
   "outputs": [],
   "source": [
    "### What is lambda or anonymus function?"
   ]
  },
  {
   "cell_type": "code",
   "execution_count": 10,
   "metadata": {},
   "outputs": [],
   "source": [
    "add_ten = lambda x: x + 1"
   ]
  },
  {
   "cell_type": "code",
   "execution_count": 11,
   "metadata": {},
   "outputs": [
    {
     "data": {
      "text/plain": "11"
     },
     "execution_count": 11,
     "metadata": {},
     "output_type": "execute_result"
    }
   ],
   "source": [
    "add_ten(10)"
   ]
  },
  {
   "cell_type": "markdown",
   "execution_count": 4,
   "metadata": {},
   "outputs": [],
   "source": [
    "### New calculated column"
   ]
  },
  {
   "cell_type": "markdown",
   "execution_count": null,
   "metadata": {},
   "outputs": [],
   "source": [
    "assign method returns a new object with all original columns in addition to new ones. Existing columns that are re-assigned will be overwritten. For adding new columns to a DataFrame in a chain (inspired by dplyr's mutate)\n",
    "\n",
    "depth_flag will be the new column that will have two values, if total_depth is larger or equal to 2000m, it will be classified as \"deep\", otherwise it will be classified as \"shallow\"."
   ]
  },
  {
   "cell_type": "code",
   "execution_count": 12,
   "metadata": {},
   "outputs": [
    {
     "data": {
      "text/html": "<div>\n<style scoped>\n    .dataframe tbody tr th:only-of-type {\n        vertical-align: middle;\n    }\n\n    .dataframe tbody tr th {\n        vertical-align: top;\n    }\n\n    .dataframe thead th {\n        text-align: right;\n    }\n</style>\n<table border=\"1\" class=\"dataframe\">\n  <thead>\n    <tr style=\"text-align: right;\">\n      <th></th>\n      <th>wellbore_name</th>\n      <th>total_depth</th>\n      <th>utm_zone</th>\n      <th>depth_flag</th>\n    </tr>\n  </thead>\n  <tbody>\n    <tr>\n      <td>0</td>\n      <td>1/2-1</td>\n      <td>3574.0</td>\n      <td>31</td>\n      <td>deep</td>\n    </tr>\n    <tr>\n      <td>1</td>\n      <td>1/2-2</td>\n      <td>3434.0</td>\n      <td>31</td>\n      <td>deep</td>\n    </tr>\n    <tr>\n      <td>2</td>\n      <td>1/3-1</td>\n      <td>4877.0</td>\n      <td>31</td>\n      <td>deep</td>\n    </tr>\n    <tr>\n      <td>3</td>\n      <td>1/3-2</td>\n      <td>4297.0</td>\n      <td>31</td>\n      <td>deep</td>\n    </tr>\n    <tr>\n      <td>4</td>\n      <td>1/3-3</td>\n      <td>4876.0</td>\n      <td>31</td>\n      <td>deep</td>\n    </tr>\n    <tr>\n      <td>...</td>\n      <td>...</td>\n      <td>...</td>\n      <td>...</td>\n      <td>...</td>\n    </tr>\n    <tr>\n      <td>1917</td>\n      <td>7324/10-1</td>\n      <td>2919.0</td>\n      <td>35</td>\n      <td>deep</td>\n    </tr>\n    <tr>\n      <td>1918</td>\n      <td>7325/1-1</td>\n      <td>2865.0</td>\n      <td>35</td>\n      <td>deep</td>\n    </tr>\n    <tr>\n      <td>1919</td>\n      <td>7325/4-1</td>\n      <td>1210.0</td>\n      <td>35</td>\n      <td>deep</td>\n    </tr>\n    <tr>\n      <td>1920</td>\n      <td>7335/3-1</td>\n      <td>4300.0</td>\n      <td>37</td>\n      <td>deep</td>\n    </tr>\n    <tr>\n      <td>1921</td>\n      <td>7435/12-1</td>\n      <td>1540.0</td>\n      <td>37</td>\n      <td>deep</td>\n    </tr>\n  </tbody>\n</table>\n<p>1922 rows × 4 columns</p>\n</div>",
      "text/plain": "     wellbore_name  total_depth  utm_zone depth_flag\n0            1/2-1       3574.0        31       deep\n1            1/2-2       3434.0        31       deep\n2            1/3-1       4877.0        31       deep\n3            1/3-2       4297.0        31       deep\n4            1/3-3       4876.0        31       deep\n...            ...          ...       ...        ...\n1917     7324/10-1       2919.0        35       deep\n1918      7325/1-1       2865.0        35       deep\n1919      7325/4-1       1210.0        35       deep\n1920      7335/3-1       4300.0        37       deep\n1921     7435/12-1       1540.0        37       deep\n\n[1922 rows x 4 columns]"
     },
     "execution_count": 12,
     "metadata": {},
     "output_type": "execute_result"
    }
   ],
   "source": [
    "(wellbore_exploration_all\n",
    "    .filter(items=[\"wellbore_name\", \"total_depth\", \"utm_zone\"])\n",
    "    .assign(\n",
    "        depth_flag=lambda x: np.where(x[\"total_depth\"] >= 1000, \"deep\", \"shallow\")\n",
    "        )  \n",
    ")"
   ]
  },
  {
   "cell_type": "markdown",
   "execution_count": null,
   "metadata": {},
   "outputs": [],
   "source": [
    "### Add calculated columns that are dependent on each othe"
   ]
  },
  {
   "cell_type": "markdown",
   "execution_count": null,
   "metadata": {},
   "outputs": [],
   "source": [
    "In Python 3.6+, you can create multiple columns within the same assign where one of the columns depends on another one defined within the same assign.\n",
    "\n",
    "We will calculate two new columns:\n",
    "\n",
    "* `drilling_depth_flag` column which is when `total_depth` column has values larger or equal to 1000m, where they will be classified as \"deep\", and otherwise as \"shallow\"\n",
    "* `depth_age_flag` column is dependent on the previously calculated column `drilling_depth_flag`. Output of the column is \"deep_and_old\" if \"drilling_depth_flag\" column is \"deep\") AND if \"completion_year\" column is less and equal than 2010, otherwise it is \"shallow_and_new\"."
   ]
  },
  {
   "cell_type": "code",
   "execution_count": 14,
   "metadata": {},
   "outputs": [
    {
     "data": {
      "text/html": "<div>\n<style scoped>\n    .dataframe tbody tr th:only-of-type {\n        vertical-align: middle;\n    }\n\n    .dataframe tbody tr th {\n        vertical-align: top;\n    }\n\n    .dataframe thead th {\n        text-align: right;\n    }\n</style>\n<table border=\"1\" class=\"dataframe\">\n  <thead>\n    <tr style=\"text-align: right;\">\n      <th></th>\n      <th>wellbore_name</th>\n      <th>total_depth</th>\n      <th>utm_zone</th>\n      <th>completion_year</th>\n      <th>drilling_depth_flag</th>\n      <th>depth_age_flag</th>\n    </tr>\n  </thead>\n  <tbody>\n    <tr>\n      <td>0</td>\n      <td>1/2-1</td>\n      <td>3574.0</td>\n      <td>31</td>\n      <td>1989</td>\n      <td>deep</td>\n      <td>deep_and_old</td>\n    </tr>\n    <tr>\n      <td>1</td>\n      <td>1/2-2</td>\n      <td>3434.0</td>\n      <td>31</td>\n      <td>2006</td>\n      <td>deep</td>\n      <td>deep_and_old</td>\n    </tr>\n    <tr>\n      <td>2</td>\n      <td>1/3-1</td>\n      <td>4877.0</td>\n      <td>31</td>\n      <td>1968</td>\n      <td>deep</td>\n      <td>deep_and_old</td>\n    </tr>\n    <tr>\n      <td>3</td>\n      <td>1/3-2</td>\n      <td>4297.0</td>\n      <td>31</td>\n      <td>1969</td>\n      <td>deep</td>\n      <td>deep_and_old</td>\n    </tr>\n    <tr>\n      <td>4</td>\n      <td>1/3-3</td>\n      <td>4876.0</td>\n      <td>31</td>\n      <td>1983</td>\n      <td>deep</td>\n      <td>deep_and_old</td>\n    </tr>\n    <tr>\n      <td>...</td>\n      <td>...</td>\n      <td>...</td>\n      <td>...</td>\n      <td>...</td>\n      <td>...</td>\n      <td>...</td>\n    </tr>\n    <tr>\n      <td>1917</td>\n      <td>7324/10-1</td>\n      <td>2919.0</td>\n      <td>35</td>\n      <td>1989</td>\n      <td>deep</td>\n      <td>deep_and_old</td>\n    </tr>\n    <tr>\n      <td>1918</td>\n      <td>7325/1-1</td>\n      <td>2865.0</td>\n      <td>35</td>\n      <td>2014</td>\n      <td>deep</td>\n      <td>deep_and_new</td>\n    </tr>\n    <tr>\n      <td>1919</td>\n      <td>7325/4-1</td>\n      <td>1210.0</td>\n      <td>35</td>\n      <td>2017</td>\n      <td>deep</td>\n      <td>deep_and_new</td>\n    </tr>\n    <tr>\n      <td>1920</td>\n      <td>7335/3-1</td>\n      <td>4300.0</td>\n      <td>37</td>\n      <td>2019</td>\n      <td>deep</td>\n      <td>deep_and_new</td>\n    </tr>\n    <tr>\n      <td>1921</td>\n      <td>7435/12-1</td>\n      <td>1540.0</td>\n      <td>37</td>\n      <td>2017</td>\n      <td>deep</td>\n      <td>deep_and_new</td>\n    </tr>\n  </tbody>\n</table>\n<p>1922 rows × 6 columns</p>\n</div>",
      "text/plain": "     wellbore_name  total_depth  utm_zone  completion_year  \\\n0            1/2-1       3574.0        31             1989   \n1            1/2-2       3434.0        31             2006   \n2            1/3-1       4877.0        31             1968   \n3            1/3-2       4297.0        31             1969   \n4            1/3-3       4876.0        31             1983   \n...            ...          ...       ...              ...   \n1917     7324/10-1       2919.0        35             1989   \n1918      7325/1-1       2865.0        35             2014   \n1919      7325/4-1       1210.0        35             2017   \n1920      7335/3-1       4300.0        37             2019   \n1921     7435/12-1       1540.0        37             2017   \n\n     drilling_depth_flag depth_age_flag  \n0                   deep   deep_and_old  \n1                   deep   deep_and_old  \n2                   deep   deep_and_old  \n3                   deep   deep_and_old  \n4                   deep   deep_and_old  \n...                  ...            ...  \n1917                deep   deep_and_old  \n1918                deep   deep_and_new  \n1919                deep   deep_and_new  \n1920                deep   deep_and_new  \n1921                deep   deep_and_new  \n\n[1922 rows x 6 columns]"
     },
     "execution_count": 14,
     "metadata": {},
     "output_type": "execute_result"
    }
   ],
   "source": [
    "(wellbore_exploration_all\n",
    "    .filter(items=[\"wellbore_name\", \"total_depth\", \"utm_zone\", \"completion_year\"])\n",
    "    .assign(\n",
    "        drilling_depth_flag=lambda x: np.where(x[\"total_depth\"] >= 1000, \"deep\", \"shallow\"),\n",
    "        depth_age_flag=lambda x: np.where(\n",
    "            (x[\"drilling_depth_flag\"] == \"deep\") & (x[\"completion_year\"] <= 2010),   # drilling_depth_flag has been created in previous step \n",
    "            \"deep_and_old\", \"deep_and_new\")\n",
    "        )  \n",
    ")"
   ]
  },
  {
   "cell_type": "markdown",
   "execution_count": null,
   "metadata": {},
   "outputs": [],
   "source": [
    "### Calculated column - define multiple cases with np.select"
   ]
  },
  {
   "cell_type": "code",
   "execution_count": 15,
   "metadata": {},
   "outputs": [
    {
     "data": {
      "text/plain": "Shallow Water    1373\nMidwater          547\nDeepwater           2\nName: water_depth_category, dtype: int64"
     },
     "execution_count": 15,
     "metadata": {},
     "output_type": "execute_result"
    }
   ],
   "source": [
    "df_multiple = (wellbore_exploration_all\n",
    "    .filter(items=[\"wellbore_name\", \"total_depth\", \"water_depth\"])\n",
    "    .assign(\n",
    "        water_depth_category = lambda x: np.select(\n",
    "            condlist = [\n",
    "                x[\"water_depth\"].between(0, 305, inclusive=True),\n",
    "                x[\"water_depth\"].between(306, 1524, inclusive=True),\n",
    "                x[\"water_depth\"].between(1525, 2133, inclusive=True),\n",
    "                x[\"water_depth\"].between(2134, np.max(x[\"water_depth\"]), inclusive=True)\n",
    "                ],\n",
    "            choicelist = [ \n",
    "                \"Shallow Water\",\n",
    "                \"Midwater\",\n",
    "                \"Deepwater\",\n",
    "                \"Ultra-Deepwater\"\n",
    "            ],\n",
    "            default=\"Unknown\" \n",
    "        )\n",
    "    )\n",
    ")\n",
    "df_multiple[\"water_depth_category\"].value_counts()    \n",
    "#df_multiple.query(\"water_depth_category == 'Ultra Deep'\")"
   ]
  },
  {
   "cell_type": "code",
   "execution_count": 16,
   "metadata": {},
   "outputs": [
    {
     "data": {
      "text/html": "<div>\n<style scoped>\n    .dataframe tbody tr th:only-of-type {\n        vertical-align: middle;\n    }\n\n    .dataframe tbody tr th {\n        vertical-align: top;\n    }\n\n    .dataframe thead th {\n        text-align: right;\n    }\n</style>\n<table border=\"1\" class=\"dataframe\">\n  <thead>\n    <tr style=\"text-align: right;\">\n      <th></th>\n      <th>wellbore_name</th>\n      <th>total_depth</th>\n      <th>water_depth</th>\n      <th>water_depth_category</th>\n    </tr>\n  </thead>\n  <tbody>\n    <tr>\n      <td>1437</td>\n      <td>6406/2-7</td>\n      <td>4981.0</td>\n      <td>293.0</td>\n      <td>Shallow Water</td>\n    </tr>\n    <tr>\n      <td>1331</td>\n      <td>35/10-4 A</td>\n      <td>3946.0</td>\n      <td>363.0</td>\n      <td>Midwater</td>\n    </tr>\n    <tr>\n      <td>1445</td>\n      <td>6406/3-6</td>\n      <td>4175.0</td>\n      <td>273.0</td>\n      <td>Shallow Water</td>\n    </tr>\n    <tr>\n      <td>695</td>\n      <td>25/7-1 S</td>\n      <td>3592.0</td>\n      <td>127.0</td>\n      <td>Shallow Water</td>\n    </tr>\n    <tr>\n      <td>1364</td>\n      <td>35/12-1</td>\n      <td>3020.0</td>\n      <td>351.0</td>\n      <td>Midwater</td>\n    </tr>\n    <tr>\n      <td>538</td>\n      <td>16/7-8 S</td>\n      <td>2900.0</td>\n      <td>79.5</td>\n      <td>Shallow Water</td>\n    </tr>\n    <tr>\n      <td>1055</td>\n      <td>33/9-11</td>\n      <td>3528.0</td>\n      <td>287.0</td>\n      <td>Shallow Water</td>\n    </tr>\n    <tr>\n      <td>605</td>\n      <td>24/12-3 S</td>\n      <td>3058.0</td>\n      <td>118.0</td>\n      <td>Shallow Water</td>\n    </tr>\n    <tr>\n      <td>335</td>\n      <td>15/5-4</td>\n      <td>2300.0</td>\n      <td>120.0</td>\n      <td>Shallow Water</td>\n    </tr>\n    <tr>\n      <td>1256</td>\n      <td>34/10-45 A</td>\n      <td>6523.0</td>\n      <td>142.5</td>\n      <td>Shallow Water</td>\n    </tr>\n  </tbody>\n</table>\n</div>",
      "text/plain": "     wellbore_name  total_depth  water_depth water_depth_category\n1437      6406/2-7       4981.0        293.0        Shallow Water\n1331     35/10-4 A       3946.0        363.0             Midwater\n1445      6406/3-6       4175.0        273.0        Shallow Water\n695       25/7-1 S       3592.0        127.0        Shallow Water\n1364       35/12-1       3020.0        351.0             Midwater\n538       16/7-8 S       2900.0         79.5        Shallow Water\n1055       33/9-11       3528.0        287.0        Shallow Water\n605      24/12-3 S       3058.0        118.0        Shallow Water\n335         15/5-4       2300.0        120.0        Shallow Water\n1256    34/10-45 A       6523.0        142.5        Shallow Water"
     },
     "execution_count": 16,
     "metadata": {},
     "output_type": "execute_result"
    }
   ],
   "source": [
    "df_multiple.sample(10)"
   ]
  },
  {
   "cell_type": "markdown",
   "execution_count": null,
   "metadata": {},
   "outputs": [],
   "source": [
    "### Converting columns to date and time, and calculating difference"
   ]
  },
  {
   "cell_type": "code",
   "execution_count": 28,
   "metadata": {},
   "outputs": [
    {
     "data": {
      "text/html": "<div>\n<style scoped>\n    .dataframe tbody tr th:only-of-type {\n        vertical-align: middle;\n    }\n\n    .dataframe tbody tr th {\n        vertical-align: top;\n    }\n\n    .dataframe thead th {\n        text-align: right;\n    }\n</style>\n<table border=\"1\" class=\"dataframe\">\n  <thead>\n    <tr style=\"text-align: right;\">\n      <th></th>\n      <th>well</th>\n      <th>entry_date</th>\n      <th>completion_date</th>\n      <th>days_of_drilling</th>\n    </tr>\n  </thead>\n  <tbody>\n    <tr>\n      <td>0</td>\n      <td>1/2-1</td>\n      <td>1989-03-20</td>\n      <td>1989-04-06</td>\n      <td>17.0</td>\n    </tr>\n    <tr>\n      <td>1</td>\n      <td>1/2-2</td>\n      <td>2005-12-14</td>\n      <td>2006-02-02</td>\n      <td>50.0</td>\n    </tr>\n    <tr>\n      <td>2</td>\n      <td>1/3-1</td>\n      <td>1968-06-07</td>\n      <td>1968-11-11</td>\n      <td>157.0</td>\n    </tr>\n    <tr>\n      <td>3</td>\n      <td>1/3-2</td>\n      <td>1969-05-14</td>\n      <td>1969-07-27</td>\n      <td>74.0</td>\n    </tr>\n    <tr>\n      <td>4</td>\n      <td>1/3-3</td>\n      <td>1982-08-22</td>\n      <td>1983-03-24</td>\n      <td>214.0</td>\n    </tr>\n  </tbody>\n</table>\n</div>",
      "text/plain": "    well entry_date completion_date  days_of_drilling\n0  1/2-1 1989-03-20      1989-04-06              17.0\n1  1/2-2 2005-12-14      2006-02-02              50.0\n2  1/3-1 1968-06-07      1968-11-11             157.0\n3  1/3-2 1969-05-14      1969-07-27              74.0\n4  1/3-3 1982-08-22      1983-03-24             214.0"
     },
     "execution_count": 28,
     "metadata": {},
     "output_type": "execute_result"
    }
   ],
   "source": [
    "wellbore_exploration_all.columns\n",
    "\n",
    "df_days = (wellbore_exploration_all\n",
    "    .filter(items = ['well', 'entry_date','completion_date'])\n",
    "    .assign(\n",
    "        entry_date=pd.to_datetime(wellbore_exploration_all['entry_date']),\n",
    "        completion_date=pd.to_datetime(wellbore_exploration_all['completion_date']),\n",
    "        days_of_drilling = lambda x: (x[\"completion_date\"] - x[\"entry_date\"]).dt.days,\n",
    "        )\n",
    "    )\n",
    "df_days.head()"
   ]
  },
  {
   "cell_type": "code",
   "execution_count": null,
   "metadata": {},
   "outputs": [],
   "source": []
  }
 ],
 "metadata": {},
 "nbformat": 4,
 "nbformat_minor": 2
}